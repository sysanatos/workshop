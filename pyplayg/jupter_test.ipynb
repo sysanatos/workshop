{
 "cells": [
  {
   "cell_type": "code",
   "execution_count": 1,
   "metadata": {},
   "outputs": [
    {
     "name": "stdout",
     "output_type": "stream",
     "text": [
      "Python version\n",
      "3.7.16 (default, Jan 17 2023, 16:06:28) [MSC v.1916 64 bit (AMD64)]\n",
      "Version info.\n",
      "sys.version_info(major=3, minor=7, micro=16, releaselevel='final', serial=0)\n",
      "Python path\n",
      "['d:\\\\work\\\\codezone\\\\github_workshop\\\\workshop\\\\pyplayg', 'c:\\\\Users\\\\john_\\\\.conda\\\\envs\\\\py37\\\\python37.zip', 'c:\\\\Users\\\\john_\\\\.conda\\\\envs\\\\py37\\\\DLLs', 'c:\\\\Users\\\\john_\\\\.conda\\\\envs\\\\py37\\\\lib', 'c:\\\\Users\\\\john_\\\\.conda\\\\envs\\\\py37', '', 'c:\\\\Users\\\\john_\\\\.conda\\\\envs\\\\py37\\\\lib\\\\site-packages', 'c:\\\\Users\\\\john_\\\\.conda\\\\envs\\\\py37\\\\lib\\\\site-packages\\\\win32', 'c:\\\\Users\\\\john_\\\\.conda\\\\envs\\\\py37\\\\lib\\\\site-packages\\\\win32\\\\lib', 'c:\\\\Users\\\\john_\\\\.conda\\\\envs\\\\py37\\\\lib\\\\site-packages\\\\Pythonwin', 'c:\\\\Users\\\\john_\\\\.conda\\\\envs\\\\py37\\\\lib\\\\site-packages\\\\IPython\\\\extensions', 'C:\\\\Users\\\\john_\\\\.ipython']\n"
     ]
    }
   ],
   "source": [
    "#This is a test python-jupter file on laptop with vscode\n",
    "#use cursor to generate some fun code\n",
    "import sys\n",
    "\n",
    "print(\"Python version\")\n",
    "print(sys.version)\n",
    "print(\"Version info.\")\n",
    "print(sys.version_info)\n",
    "print(\"Python path\")\n",
    "print(sys.path)"
   ]
  }
 ],
 "metadata": {
  "kernelspec": {
   "display_name": "py37",
   "language": "python",
   "name": "python3"
  },
  "language_info": {
   "codemirror_mode": {
    "name": "ipython",
    "version": 3
   },
   "file_extension": ".py",
   "mimetype": "text/x-python",
   "name": "python",
   "nbconvert_exporter": "python",
   "pygments_lexer": "ipython3",
   "version": "3.7.16"
  },
  "orig_nbformat": 4
 },
 "nbformat": 4,
 "nbformat_minor": 2
}
